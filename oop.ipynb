{
 "cells": [
  {
   "cell_type": "markdown",
   "id": "5209b787-025a-444e-a0bf-391a62dab02e",
   "metadata": {},
   "source": [
    "OOP nach Java Fachmann\n",
    "\n",
    "Code -> Verhalten des Programms\n",
    "Daten -> Was gespeichert wird\n",
    "\n",
    "\n",
    "Python ist dynamisch\n",
    "\n",
    "\n",
    "Objekt\n",
    "Haskell -> Category Theory\n",
    "Konzept mit Beziehungen\n",
    "A -> B\n",
    "[A] -> [B]\n",
    "[Z] -> [Y]\n",
    "a -> b, a = A/[A]/[Z]"
   ]
  },
  {
   "cell_type": "code",
   "execution_count": 36,
   "id": "346627a8-f765-4332-bd12-ecc5a8d4aab4",
   "metadata": {},
   "outputs": [],
   "source": [
    "class Auto:\n",
    "    AUDI_MAX_LEISTUNG=220\n",
    "    BWM_MAX_LEISTUNG=190\n",
    "    \n",
    "    def __init__(self, raeder):\n",
    "        self.geschwindigkeit = 0 # instance variablen\n",
    "        self.raeder = raeder     # instance\n",
    "        self.gewicht = 0\n",
    "        \n",
    "    def fahren(self, gewuenschte_geschwindigkeit):\n",
    "        if gewuenschte_geschwindigkeit >= 0 and gewuenschte_geschwindigkeit <= 100:\n",
    "            self.geschwindigkeit = gewuenschte_geschwindigkeit # kmh\n",
    "            \n",
    "    def anhalten(self):\n",
    "        self.geschwindigkeit = 0\n",
    "\n",
    "    @staticmethod\n",
    "    def max_leistung(marke):\n",
    "        if marke == \"audi\":\n",
    "            return Auto.AUDI_MAX_LEISTUNG\n",
    "        elif marke == \"bwm\":\n",
    "            return Auto.BMW_MAX_LEISTUNG\n",
    "\n",
    "class Passenger:\n",
    "    def __init__(self, gewicht, lenkstaerke):\n",
    "        self.gewicht = gewicht         # kilogram\n",
    "        self.lenkstaerke = lenkstaerke # grad\n",
    "    \n",
    "    def fahren(self, auto):\n",
    "        auto.gewicht = self.gewicht\n",
    "        auto.lenken = self.lenkstaerke\n",
    "\n",
    "    def einsteigen(self, auto):\n",
    "        auto.gewicht += self.gewicht"
   ]
  },
  {
   "cell_type": "code",
   "execution_count": 37,
   "id": "916a53b2-b1b6-4949-8e7d-a9fd6e213fcc",
   "metadata": {},
   "outputs": [
    {
     "name": "stdout",
     "output_type": "stream",
     "text": [
      "Raeder 4\n",
      "Geschw. == 0 True\n",
      "Geschw. == 60 True\n",
      "Geschw. == 0 True\n",
      "Audi gewicht: 0\n",
      "Adem: Gewicht 50 Lenkstaerke 30\n",
      "Khanh: Gewicht 65 Lenkstaerke 20\n",
      "Audi gewicht: 115\n",
      "Audi max leistung 220\n"
     ]
    }
   ],
   "source": [
    "audi = Auto(4)\n",
    "bwm = Auto(5)\n",
    "\n",
    "print(\"Raeder\", audi.raeder)\n",
    "print(\"Geschw. == 0\", audi.geschwindigkeit == 0)\n",
    "\n",
    "audi.fahren(60)\n",
    "print(\"Geschw. == 60\", audi.geschwindigkeit== 60)\n",
    "\n",
    "audi.anhalten()\n",
    "print(\"Geschw. == 0\", audi.geschwindigkeit == 0)\n",
    "\n",
    "print(f\"Audi gewicht: {audi.gewicht}\")\n",
    "\n",
    "adem = Passenger(50, 30)\n",
    "adem.fahren(audi)\n",
    "\n",
    "khanh = Passenger(65, 20)\n",
    "khanh.einsteigen(audi)\n",
    "\n",
    "print(f\"Adem: Gewicht {adem.gewicht} Lenkstaerke {adem.lenkstaerke}\")\n",
    "print(f\"Khanh: Gewicht {khanh.gewicht} Lenkstaerke {khanh.lenkstaerke}\")\n",
    "print(f\"Audi gewicht: {audi.gewicht}\")\n",
    "\n",
    "print(\"Audi max leistung\", Auto.max_leistung(\"audi\"))"
   ]
  },
  {
   "cell_type": "code",
   "execution_count": null,
   "id": "aa63c3cb-0df5-4a1d-994f-f360feb087ba",
   "metadata": {},
   "outputs": [],
   "source": []
  }
 ],
 "metadata": {
  "kernelspec": {
   "display_name": "Python 3 (ipykernel)",
   "language": "python",
   "name": "python3"
  },
  "language_info": {
   "codemirror_mode": {
    "name": "ipython",
    "version": 3
   },
   "file_extension": ".py",
   "mimetype": "text/x-python",
   "name": "python",
   "nbconvert_exporter": "python",
   "pygments_lexer": "ipython3",
   "version": "3.13.1"
  }
 },
 "nbformat": 4,
 "nbformat_minor": 5
}
